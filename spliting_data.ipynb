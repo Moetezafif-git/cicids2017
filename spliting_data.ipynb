{
 "cells": [
  {
   "cell_type": "code",
   "execution_count": 1,
   "metadata": {},
   "outputs": [],
   "source": [
    "import pandas as pd\n",
    "\n",
    "df = pd.read_csv(\"filtred_dataset_with_two_classes_to_test.csv\")"
   ]
  },
  {
   "cell_type": "code",
   "execution_count": 2,
   "metadata": {},
   "outputs": [],
   "source": [
    "import os\n",
    "import logging\n",
    "logging.getLogger().setLevel(logging.INFO)\n",
    "import pandas as pd\n",
    "import numpy as np\n",
    "\n",
    "from sklearn.preprocessing import LabelEncoder\n",
    "from sklearn.model_selection import train_test_split\n",
    "\n",
    "\n",
    "# Log setting\n",
    "logging.basicConfig(format=\"%(asctime)s %(levelname)s %(message)s\", datefmt=\"%H:%M:%S\", level=logging.INFO)\n",
    "\n",
    "# Change display.max_rows to show all features.\n",
    "pd.set_option(\"display.max_rows\", 85)"
   ]
  },
  {
   "cell_type": "code",
   "execution_count": 3,
   "metadata": {},
   "outputs": [
    {
     "name": "stderr",
     "output_type": "stream",
     "text": [
      "13:20:57 INFO Class distribution\n",
      "1    953268\n",
      "0    434936\n",
      "Name: Label, dtype: int64\n"
     ]
    }
   ],
   "source": [
    "logging.info(\"Class distribution\\n{}\".format(df.Label.value_counts()))\n"
   ]
  },
  {
   "cell_type": "code",
   "execution_count": 4,
   "metadata": {},
   "outputs": [],
   "source": [
    "DIR_PATH =  r\"C:\\Users\\ASUS\\Documents\\Projet_P2M\"\n",
    "PROCESSED_DIR_PATH = \"/Downloads\"\n",
    "FILE_PATH = os.path.join(DIR_PATH, \"MachineLearningCVE.csv\")"
   ]
  },
  {
   "cell_type": "code",
   "execution_count": 5,
   "metadata": {},
   "outputs": [],
   "source": [
    "def _split_train_test(df: pd.DataFrame) -> (pd.DataFrame, pd.DataFrame):\n",
    "    # Sampling the dataset\n",
    "    x = df.iloc[:, df.columns != 'Label']\n",
    "    \n",
    "    y = df[['Label']]\n",
    "\n",
    "    x_train, x_test, y_train, y_test = train_test_split(x, y, stratify=y, test_size=0.20,\n",
    "                                                        random_state=np.random.randint(10))\n",
    "\n",
    "    del x, y\n",
    "\n",
    "    train = pd.concat([x_train, y_train], axis=1, sort=False)\n",
    "    test = pd.concat([x_test, y_test], axis=1, sort=False)\n",
    "\n",
    "    return train, test\n",
    "\n",
    "\n",
    "\n",
    "\n",
    "X,y=_split_train_test(df)\n",
    "\n",
    "#from sklearn.model_selection import train_test_split\n",
    "\n",
    "#Creating training and testing data from unbalanced dataset\n",
    "#X_train, X_test, y_train, y_test = train_test_split(X, y, test_size = 0.3, random_state = 0)\n"
   ]
  },
  {
   "cell_type": "code",
   "execution_count": 6,
   "metadata": {},
   "outputs": [
    {
     "name": "stderr",
     "output_type": "stream",
     "text": [
      "13:21:08 INFO Class distribution\n",
      "1    762614\n",
      "0    347949\n",
      "Name: Label, dtype: int64\n"
     ]
    }
   ],
   "source": [
    "logging.info(\"Class distribution\\n{}\".format(X.Label.value_counts()))"
   ]
  },
  {
   "cell_type": "code",
   "execution_count": 7,
   "metadata": {},
   "outputs": [
    {
     "ename": "",
     "evalue": "",
     "output_type": "error",
     "traceback": [
      "\u001b[1;31mThe Kernel crashed while executing code in the the current cell or a previous cell. Please review the code in the cell(s) to identify a possible cause of the failure. Click <a href='https://aka.ms/vscodeJupyterKernelCrash'>here</a> for more info. View Jupyter <a href='command:jupyter.viewOutput'>log</a> for further details."
     ]
    }
   ],
   "source": [
    "X.to_csv('trains_two_data.csv',index=False)\n",
    "y.to_csv('tests_two_data.csv',index=False)"
   ]
  },
  {
   "cell_type": "code",
   "execution_count": null,
   "metadata": {},
   "outputs": [],
   "source": []
  }
 ],
 "metadata": {
  "kernelspec": {
   "display_name": "Python 3",
   "language": "python",
   "name": "python3"
  },
  "language_info": {
   "codemirror_mode": {
    "name": "ipython",
    "version": 3
   },
   "file_extension": ".py",
   "mimetype": "text/x-python",
   "name": "python",
   "nbconvert_exporter": "python",
   "pygments_lexer": "ipython3",
   "version": "3.10.7"
  },
  "orig_nbformat": 4
 },
 "nbformat": 4,
 "nbformat_minor": 2
}
