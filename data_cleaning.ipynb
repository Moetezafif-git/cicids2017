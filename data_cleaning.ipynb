{
  "cells": [
    {
      "cell_type": "code",
      "execution_count": 2,
      "metadata": {
        "id": "Fmqb7GY63hOT"
      },
      "outputs": [],
      "source": [
        "import pandas as pd\n",
        "\n",
        "df = pd.read_csv(\"MachineLearningCVE.csv\")"
      ]
    },
    {
      "cell_type": "code",
      "execution_count": 3,
      "metadata": {},
      "outputs": [
        {
          "name": "stdout",
          "output_type": "stream",
          "text": [
            "Dimensions : 2830743 rows, 79 columns\n",
            "Total NA Values : 1358 \n",
            "                           Column Name  Data Type      #Distinct  NA Values\n",
            "                      Destination Port      int64        53805          0\n",
            "                         Flow Duration      int64      1050899          0\n",
            "                     Total Fwd Packets      int64         1432          0\n",
            "                Total Backward Packets      int64         1747          0\n",
            "           Total Length of Fwd Packets      int64        17928          0\n",
            "           Total Length of Bwd Packets      int64        64698          0\n",
            "                 Fwd Packet Length Max      int64         5279          0\n",
            "                 Fwd Packet Length Min      int64          384          0\n",
            "                Fwd Packet Length Mean    float64        99716          0\n",
            "                 Fwd Packet Length Std    float64       253909          0\n",
            "                 Bwd Packet Length Max      int64         4838          0\n",
            "                 Bwd Packet Length Min      int64          583          0\n",
            "                Bwd Packet Length Mean    float64       147614          0\n",
            "                 Bwd Packet Length Std    float64       248869          0\n",
            "                          Flow Bytes/s    float64      1593908       1358\n",
            "                        Flow Packets/s    float64      1240164          0\n",
            "                         Flow IAT Mean    float64      1166311          0\n",
            "                          Flow IAT Std    float64      1056642          0\n",
            "                          Flow IAT Max      int64       580289          0\n",
            "                          Flow IAT Min      int64       136316          0\n",
            "                         Fwd IAT Total      int64       493098          0\n",
            "                          Fwd IAT Mean    float64       737737          0\n",
            "                           Fwd IAT Std    float64       700313          0\n",
            "                           Fwd IAT Max      int64       437316          0\n",
            "                           Fwd IAT Min      int64       110631          0\n",
            "                         Bwd IAT Total      int64       414928          0\n",
            "                          Bwd IAT Mean    float64       670824          0\n",
            "                           Bwd IAT Std    float64       709042          0\n",
            "                           Bwd IAT Max      int64       368285          0\n",
            "                           Bwd IAT Min      int64        66074          0\n",
            "                         Fwd PSH Flags      int64            2          0\n",
            "                         Bwd PSH Flags      int64            1          0\n",
            "                         Fwd URG Flags      int64            2          0\n",
            "                         Bwd URG Flags      int64            1          0\n",
            "                     Fwd Header Length      int64         3771          0\n",
            "                     Bwd Header Length      int64         3945          0\n",
            "                         Fwd Packets/s    float64      1220423          0\n",
            "                         Bwd Packets/s    float64      1107886          0\n",
            "                     Min Packet Length      int64          215          0\n",
            "                     Max Packet Length      int64         5708          0\n",
            "                    Packet Length Mean    float64       215826          0\n",
            "                     Packet Length Std    float64       412246          0\n",
            "                Packet Length Variance    float64       405565          0\n",
            "                        FIN Flag Count      int64            2          0\n",
            "                        SYN Flag Count      int64            2          0\n",
            "                        RST Flag Count      int64            2          0\n",
            "                        PSH Flag Count      int64            2          0\n",
            "                        ACK Flag Count      int64            2          0\n",
            "                        URG Flag Count      int64            2          0\n",
            "                        CWE Flag Count      int64            2          0\n",
            "                        ECE Flag Count      int64            2          0\n",
            "                         Down/Up Ratio      int64           31          0\n",
            "                   Average Packet Size    float64       212207          0\n",
            "                  Avg Fwd Segment Size    float64        99716          0\n",
            "                  Avg Bwd Segment Size    float64       147611          0\n",
            "                   Fwd Header Length.1      int64         3771          0\n",
            "                    Fwd Avg Bytes/Bulk      int64            1          0\n",
            "                  Fwd Avg Packets/Bulk      int64            1          0\n",
            "                     Fwd Avg Bulk Rate      int64            1          0\n",
            "                    Bwd Avg Bytes/Bulk      int64            1          0\n",
            "                  Bwd Avg Packets/Bulk      int64            1          0\n",
            "                     Bwd Avg Bulk Rate      int64            1          0\n",
            "                   Subflow Fwd Packets      int64         1432          0\n",
            "                     Subflow Fwd Bytes      int64        17928          0\n",
            "                   Subflow Bwd Packets      int64         1747          0\n",
            "                     Subflow Bwd Bytes      int64        64738          0\n",
            "                Init_Win_bytes_forward      int64        12151          0\n",
            "               Init_Win_bytes_backward      int64        13112          0\n",
            "                      act_data_pkt_fwd      int64         1093          0\n",
            "                  min_seg_size_forward      int64           28          0\n",
            "                           Active Mean    float64       326325          0\n",
            "                            Active Std    float64       202826          0\n",
            "                            Active Max      int64       299565          0\n",
            "                            Active Min      int64       175670          0\n",
            "                             Idle Mean    float64       222016          0\n",
            "                              Idle Std    float64       197616          0\n",
            "                              Idle Max      int64       149737          0\n",
            "                              Idle Min      int64       223888          0\n",
            "                                 Label     object           15          0\n"
          ]
        }
      ],
      "source": [
        "def initial_eda(data):\n",
        "    if isinstance(data, pd.DataFrame):\n",
        "        total_na = data.isna().sum().sum()\n",
        "        print(\"Dimensions : %d rows, %d columns\" % (data.shape[0], data.shape[1]))\n",
        "        print(\"Total NA Values : %d \" % (total_na))\n",
        "        print(\"%38s %10s     %10s %10s\" % (\"Column Name\", \"Data Type\", \"#Distinct\", \"NA Values\"))\n",
        "        col_name = data.columns\n",
        "        dtyp = data.dtypes\n",
        "        uniq = data.nunique()\n",
        "        na_val = data.isna().sum()\n",
        "        for i in range(len(data.columns)):\n",
        "            print(\"%38s %10s   %10s %10s\" % (col_name[i], dtyp[i], uniq[i], na_val[i]))\n",
        "        \n",
        "    else:\n",
        "        print(\"Expect a DataFrame but got a %15s\" % (type(data)))\n",
        "\n",
        "\n",
        "initial_eda(df)\n"
      ]
    },
    {
      "cell_type": "code",
      "execution_count": 4,
      "metadata": {},
      "outputs": [],
      "source": [
        "import matplotlib.pyplot as plt\n",
        "import seaborn as sns\n",
        "\n",
        "# Separate the datµ for benign and SSH-Patator connections\n",
        "benign_data = df[df['Label'] == 'BENIGN']\n",
        "ssh_patator_data = df[df['Label'] == 'SSH-Patator']\n",
        "\n"
      ]
    },
    {
      "cell_type": "code",
      "execution_count": 5,
      "metadata": {},
      "outputs": [],
      "source": [
        "df = df.drop('Init_Win_bytes_backward', axis=1)\n"
      ]
    },
    {
      "cell_type": "code",
      "execution_count": 6,
      "metadata": {
        "id": "LanaQxxe4Fbs"
      },
      "outputs": [],
      "source": [
        "labels=df.Label.unique()\n",
        "columns = df.columns[:-1]\n",
        "\n",
        "\n"
      ]
    },
    {
      "cell_type": "code",
      "execution_count": 7,
      "metadata": {
        "id": "Nh45nm9V42do"
      },
      "outputs": [],
      "source": [
        "\n",
        "column_dict= {column : 0 for column in columns} \n",
        "\n",
        "for column in columns :\n",
        " count = (df[column] < 0).sum()\n",
        " column_dict[column] = count\n",
        "\n",
        "\n"
      ]
    },
    {
      "cell_type": "code",
      "execution_count": 8,
      "metadata": {
        "id": "HhjAjFeX5qlK"
      },
      "outputs": [
        {
          "data": {
            "text/plain": [
              "{'Destination Port': 0,\n",
              " 'Flow Duration': 115,\n",
              " 'Total Fwd Packets': 0,\n",
              " 'Total Backward Packets': 0,\n",
              " 'Total Length of Fwd Packets': 0,\n",
              " 'Total Length of Bwd Packets': 0,\n",
              " 'Fwd Packet Length Max': 0,\n",
              " 'Fwd Packet Length Min': 0,\n",
              " 'Fwd Packet Length Mean': 0,\n",
              " 'Fwd Packet Length Std': 0,\n",
              " 'Bwd Packet Length Max': 0,\n",
              " 'Bwd Packet Length Min': 0,\n",
              " 'Bwd Packet Length Mean': 0,\n",
              " 'Bwd Packet Length Std': 0,\n",
              " 'Flow Bytes/s': 85,\n",
              " 'Flow Packets/s': 115,\n",
              " 'Flow IAT Mean': 115,\n",
              " 'Flow IAT Std': 0,\n",
              " 'Flow IAT Max': 115,\n",
              " 'Flow IAT Min': 2891,\n",
              " 'Fwd IAT Total': 0,\n",
              " 'Fwd IAT Mean': 0,\n",
              " 'Fwd IAT Std': 0,\n",
              " 'Fwd IAT Max': 0,\n",
              " 'Fwd IAT Min': 17,\n",
              " 'Bwd IAT Total': 0,\n",
              " 'Bwd IAT Mean': 0,\n",
              " 'Bwd IAT Std': 0,\n",
              " 'Bwd IAT Max': 0,\n",
              " 'Bwd IAT Min': 0,\n",
              " 'Fwd PSH Flags': 0,\n",
              " 'Bwd PSH Flags': 0,\n",
              " 'Fwd URG Flags': 0,\n",
              " 'Bwd URG Flags': 0,\n",
              " 'Fwd Header Length': 35,\n",
              " 'Bwd Header Length': 22,\n",
              " 'Fwd Packets/s': 0,\n",
              " 'Bwd Packets/s': 0,\n",
              " 'Min Packet Length': 0,\n",
              " 'Max Packet Length': 0,\n",
              " 'Packet Length Mean': 0,\n",
              " 'Packet Length Std': 0,\n",
              " 'Packet Length Variance': 0,\n",
              " 'FIN Flag Count': 0,\n",
              " 'SYN Flag Count': 0,\n",
              " 'RST Flag Count': 0,\n",
              " 'PSH Flag Count': 0,\n",
              " 'ACK Flag Count': 0,\n",
              " 'URG Flag Count': 0,\n",
              " 'CWE Flag Count': 0,\n",
              " 'ECE Flag Count': 0,\n",
              " 'Down/Up Ratio': 0,\n",
              " 'Average Packet Size': 0,\n",
              " 'Avg Fwd Segment Size': 0,\n",
              " 'Avg Bwd Segment Size': 0,\n",
              " 'Fwd Header Length.1': 35,\n",
              " 'Fwd Avg Bytes/Bulk': 0,\n",
              " 'Fwd Avg Packets/Bulk': 0,\n",
              " 'Fwd Avg Bulk Rate': 0,\n",
              " 'Bwd Avg Bytes/Bulk': 0,\n",
              " 'Bwd Avg Packets/Bulk': 0,\n",
              " 'Bwd Avg Bulk Rate': 0,\n",
              " 'Subflow Fwd Packets': 0,\n",
              " 'Subflow Fwd Bytes': 0,\n",
              " 'Subflow Bwd Packets': 0,\n",
              " 'Subflow Bwd Bytes': 0,\n",
              " 'Init_Win_bytes_forward': 1001189,\n",
              " 'act_data_pkt_fwd': 0,\n",
              " 'min_seg_size_forward': 35,\n",
              " 'Active Mean': 0,\n",
              " 'Active Std': 0,\n",
              " 'Active Max': 0,\n",
              " 'Active Min': 0,\n",
              " 'Idle Mean': 0,\n",
              " 'Idle Std': 0,\n",
              " 'Idle Max': 0,\n",
              " 'Idle Min': 0}"
            ]
          },
          "execution_count": 8,
          "metadata": {},
          "output_type": "execute_result"
        }
      ],
      "source": [
        "column_dict"
      ]
    },
    {
      "cell_type": "code",
      "execution_count": 9,
      "metadata": {
        "id": "1spFL53Z_OdI"
      },
      "outputs": [
        {
          "data": {
            "image/png": "[encoded data removed]",
            "text/plain": [
              "<Figure size 1000x600 with 1 Axes>"
            ]
          },
          "metadata": {},
          "output_type": "display_data"
        }
      ],
      "source": [
        "import seaborn as sns\n",
        "\n",
        "import matplotlib.pyplot as plt\n",
        "# Plot frequency distribution of all labels\n",
        "f, ax = plt.subplots(figsize=(10, 6))\n",
        "sns.countplot(x=\"Label\", data=df, palette=\"Set1\")\n",
        "\n",
        "# Add labels to the bars\n",
        "for p in ax.patches:\n",
        "    height = p.get_height()\n",
        "    ax.annotate(f\"{height}\", xy=(p.get_x() + p.get_width() / 2, height),\n",
        "                xytext=(0, 5), textcoords='offset points',\n",
        "                ha='center', va='bottom')\n",
        "\n",
        "# Set title and axis labels\n",
        "ax.set_title(\"Frequency Distribution of Labels\")\n",
        "ax.set_xlabel(\"Label\")\n",
        "ax.set_ylabel(\"Frequency\")\n",
        "\n",
        "plt.show()"
      ]
    },
    {
      "cell_type": "code",
      "execution_count": 10,
      "metadata": {},
      "outputs": [
        {
          "data": {
            "text/plain": [
              "array(['BENIGN', 'FTP-Patator', 'SSH-Patator', 'DoS slowloris',\n",
              "       'DoS Slowhttptest', 'DoS Hulk', 'DoS GoldenEye', 'Heartbleed',\n",
              "       'Web Attack-Brute Force', 'Web Attack-XSS',\n",
              "       'Web Attack-Sql Injection', 'Infiltration', 'Bot', 'PortScan',\n",
              "       'DDoS'], dtype=object)"
            ]
          },
          "execution_count": 10,
          "metadata": {},
          "output_type": "execute_result"
        }
      ],
      "source": [
        "labels"
      ]
    },
    {
      "cell_type": "code",
      "execution_count": 11,
      "metadata": {
        "id": "xbe6qu3X_vxK"
      },
      "outputs": [],
      "source": [
        " df = df.drop(df[df['Label'].isin(['Infiltration', 'Web Attack-Sql Injection', 'Heartbleed','Bot','Web Attack-Brute Force','Web Attack-XSS'])].index)"
      ]
    },
    {
      "cell_type": "code",
      "execution_count": 12,
      "metadata": {
        "id": "5Jl3YMxCRQLA"
      },
      "outputs": [
        {
          "data": {
            "image/png": "[encoded data removed]",
            "text/plain": [
              "<Figure size 1000x600 with 1 Axes>"
            ]
          },
          "metadata": {},
          "output_type": "display_data"
        }
      ],
      "source": [
        "import seaborn as sns\n",
        "\n",
        "import matplotlib.pyplot as plt\n",
        "# Plot frequency distribution of all labels\n",
        "f, ax = plt.subplots(figsize=(10, 6))\n",
        "sns.countplot(x=\"Label\", data=df, palette=\"Set1\")\n",
        "\n",
        "# Add labels to the bars\n",
        "for p in ax.patches:\n",
        "    height = p.get_height()\n",
        "    ax.annotate(f\"{height}\", xy=(p.get_x() + p.get_width() / 2, height),\n",
        "                xytext=(0, 5), textcoords='offset points',\n",
        "                ha='center', va='bottom')\n",
        "\n",
        "# Set title and axis labels\n",
        "ax.set_title(\"Frequency Distribution of Labels\")\n",
        "ax.set_xlabel(\"Label\")\n",
        "ax.set_ylabel(\"Frequency\")\n",
        "\n",
        "plt.show()"
      ]
    },
    {
      "cell_type": "code",
      "execution_count": 13,
      "metadata": {},
      "outputs": [],
      "source": [
        "import os\n",
        "import logging\n",
        "logging.getLogger().setLevel(logging.INFO)\n",
        "import pandas as pd\n",
        "import numpy as np\n",
        "\n",
        "from sklearn.preprocessing import LabelEncoder\n",
        "from sklearn.model_selection import train_test_split\n",
        "\n",
        "\n",
        "# Log setting\n",
        "logging.basicConfig(format=\"%(asctime)s %(levelname)s %(message)s\", datefmt=\"%H:%M:%S\", level=logging.INFO)\n",
        "\n",
        "# Change display.max_rows to show all features.\n",
        "pd.set_option(\"display.max_rows\", 85)"
      ]
    },
    {
      "cell_type": "code",
      "execution_count": null,
      "metadata": {},
      "outputs": [],
      "source": []
    },
    {
      "cell_type": "code",
      "execution_count": 14,
      "metadata": {},
      "outputs": [],
      "source": [
        "from sklearn.preprocessing import LabelEncoder\n",
        "\n",
        "le = LabelEncoder()\n",
        "df.Label = le.fit_transform(df.Label)\n",
        "\n",
        "\n"
      ]
    },
    {
      "cell_type": "code",
      "execution_count": 15,
      "metadata": {},
      "outputs": [
        {
          "data": {
            "text/plain": [
              "array(['BENIGN', 'DDoS', 'DoS GoldenEye', 'DoS Hulk', 'DoS Slowhttptest',\n",
              "       'DoS slowloris', 'FTP-Patator', 'PortScan', 'SSH-Patator'],\n",
              "      dtype=object)"
            ]
          },
          "execution_count": 15,
          "metadata": {},
          "output_type": "execute_result"
        }
      ],
      "source": [
        "le.classes_"
      ]
    },
    {
      "cell_type": "code",
      "execution_count": 16,
      "metadata": {},
      "outputs": [
        {
          "name": "stderr",
          "output_type": "stream",
          "text": [
            "10:51:36 INFO Fill NaN in 16 rows with average value of each class.\n"
          ]
        },
        {
          "name": "stderr",
          "output_type": "stream",
          "text": [
            "C:\\Users\\ASUS\\AppData\\Local\\Temp\\ipykernel_10032\\3911524785.py:9: SettingWithCopyWarning: \n",
            "A value is trying to be set on a copy of a slice from a DataFrame.\n",
            "Try using .loc[row_indexer,col_indexer] = value instead\n",
            "\n",
            "See the caveats in the documentation: https://pandas.pydata.org/pandas-docs/stable/user_guide/indexing.html#returning-a-view-versus-a-copy\n",
            "  chunk.iloc[:, chunk.columns != \"Label\"] = chunk.groupby(\"Label\").transform(lambda x: x.fillna(x.mean()))\n",
            "10:51:36 INFO Replace negative values with minimum value of each class.\n",
            "10:51:37 INFO Fill NaN in 12 rows with average value of each class.\n"
          ]
        },
        {
          "name": "stdout",
          "output_type": "stream",
          "text": [
            "[0]\n"
          ]
        },
        {
          "name": "stderr",
          "output_type": "stream",
          "text": [
            "C:\\Users\\ASUS\\AppData\\Local\\Temp\\ipykernel_10032\\3911524785.py:9: SettingWithCopyWarning: \n",
            "A value is trying to be set on a copy of a slice from a DataFrame.\n",
            "Try using .loc[row_indexer,col_indexer] = value instead\n",
            "\n",
            "See the caveats in the documentation: https://pandas.pydata.org/pandas-docs/stable/user_guide/indexing.html#returning-a-view-versus-a-copy\n",
            "  chunk.iloc[:, chunk.columns != \"Label\"] = chunk.groupby(\"Label\").transform(lambda x: x.fillna(x.mean()))\n",
            "10:51:37 INFO Replace negative values with minimum value of each class.\n",
            "10:51:38 INFO Fill NaN in 8 rows with average value of each class.\n"
          ]
        },
        {
          "name": "stdout",
          "output_type": "stream",
          "text": [
            "[0]\n"
          ]
        },
        {
          "name": "stderr",
          "output_type": "stream",
          "text": [
            "C:\\Users\\ASUS\\AppData\\Local\\Temp\\ipykernel_10032\\3911524785.py:9: SettingWithCopyWarning: \n",
            "A value is trying to be set on a copy of a slice from a DataFrame.\n",
            "Try using .loc[row_indexer,col_indexer] = value instead\n",
            "\n",
            "See the caveats in the documentation: https://pandas.pydata.org/pandas-docs/stable/user_guide/indexing.html#returning-a-view-versus-a-copy\n",
            "  chunk.iloc[:, chunk.columns != \"Label\"] = chunk.groupby(\"Label\").transform(lambda x: x.fillna(x.mean()))\n",
            "10:51:38 INFO Replace negative values with minimum value of each class.\n",
            "10:51:39 INFO Fill NaN in 11 rows with average value of each class.\n"
          ]
        },
        {
          "name": "stdout",
          "output_type": "stream",
          "text": [
            "[0]\n"
          ]
        },
        {
          "name": "stderr",
          "output_type": "stream",
          "text": [
            "C:\\Users\\ASUS\\AppData\\Local\\Temp\\ipykernel_10032\\3911524785.py:9: SettingWithCopyWarning: \n",
            "A value is trying to be set on a copy of a slice from a DataFrame.\n",
            "Try using .loc[row_indexer,col_indexer] = value instead\n",
            "\n",
            "See the caveats in the documentation: https://pandas.pydata.org/pandas-docs/stable/user_guide/indexing.html#returning-a-view-versus-a-copy\n",
            "  chunk.iloc[:, chunk.columns != \"Label\"] = chunk.groupby(\"Label\").transform(lambda x: x.fillna(x.mean()))\n",
            "10:51:39 INFO Replace negative values with minimum value of each class.\n",
            "10:51:40 INFO Fill NaN in 15 rows with average value of each class.\n"
          ]
        },
        {
          "name": "stdout",
          "output_type": "stream",
          "text": [
            "[0]\n"
          ]
        },
        {
          "name": "stderr",
          "output_type": "stream",
          "text": [
            "C:\\Users\\ASUS\\AppData\\Local\\Temp\\ipykernel_10032\\3911524785.py:9: SettingWithCopyWarning: \n",
            "A value is trying to be set on a copy of a slice from a DataFrame.\n",
            "Try using .loc[row_indexer,col_indexer] = value instead\n",
            "\n",
            "See the caveats in the documentation: https://pandas.pydata.org/pandas-docs/stable/user_guide/indexing.html#returning-a-view-versus-a-copy\n",
            "  chunk.iloc[:, chunk.columns != \"Label\"] = chunk.groupby(\"Label\").transform(lambda x: x.fillna(x.mean()))\n",
            "10:51:40 INFO Replace negative values with minimum value of each class.\n",
            "10:51:41 INFO Fill NaN in 37 rows with average value of each class.\n"
          ]
        },
        {
          "name": "stdout",
          "output_type": "stream",
          "text": [
            "[0]\n"
          ]
        },
        {
          "name": "stderr",
          "output_type": "stream",
          "text": [
            "C:\\Users\\ASUS\\AppData\\Local\\Temp\\ipykernel_10032\\3911524785.py:9: SettingWithCopyWarning: \n",
            "A value is trying to be set on a copy of a slice from a DataFrame.\n",
            "Try using .loc[row_indexer,col_indexer] = value instead\n",
            "\n",
            "See the caveats in the documentation: https://pandas.pydata.org/pandas-docs/stable/user_guide/indexing.html#returning-a-view-versus-a-copy\n",
            "  chunk.iloc[:, chunk.columns != \"Label\"] = chunk.groupby(\"Label\").transform(lambda x: x.fillna(x.mean()))\n",
            "10:51:42 INFO Replace negative values with minimum value of each class.\n",
            "10:51:43 INFO Fill NaN in 40 rows with average value of each class.\n"
          ]
        },
        {
          "name": "stdout",
          "output_type": "stream",
          "text": [
            "[0 6]\n"
          ]
        },
        {
          "name": "stderr",
          "output_type": "stream",
          "text": [
            "C:\\Users\\ASUS\\AppData\\Local\\Temp\\ipykernel_10032\\3911524785.py:9: SettingWithCopyWarning: \n",
            "A value is trying to be set on a copy of a slice from a DataFrame.\n",
            "Try using .loc[row_indexer,col_indexer] = value instead\n",
            "\n",
            "See the caveats in the documentation: https://pandas.pydata.org/pandas-docs/stable/user_guide/indexing.html#returning-a-view-versus-a-copy\n",
            "  chunk.iloc[:, chunk.columns != \"Label\"] = chunk.groupby(\"Label\").transform(lambda x: x.fillna(x.mean()))\n",
            "10:51:45 INFO Replace negative values with minimum value of each class.\n",
            "10:51:45 INFO Fill NaN in 37 rows with average value of each class.\n"
          ]
        },
        {
          "name": "stdout",
          "output_type": "stream",
          "text": [
            "[0 6 8]\n"
          ]
        },
        {
          "name": "stderr",
          "output_type": "stream",
          "text": [
            "C:\\Users\\ASUS\\AppData\\Local\\Temp\\ipykernel_10032\\3911524785.py:9: SettingWithCopyWarning: \n",
            "A value is trying to be set on a copy of a slice from a DataFrame.\n",
            "Try using .loc[row_indexer,col_indexer] = value instead\n",
            "\n",
            "See the caveats in the documentation: https://pandas.pydata.org/pandas-docs/stable/user_guide/indexing.html#returning-a-view-versus-a-copy\n",
            "  chunk.iloc[:, chunk.columns != \"Label\"] = chunk.groupby(\"Label\").transform(lambda x: x.fillna(x.mean()))\n",
            "10:51:47 INFO Replace negative values with minimum value of each class.\n",
            "10:51:48 INFO Fill NaN in 54 rows with average value of each class.\n"
          ]
        },
        {
          "name": "stdout",
          "output_type": "stream",
          "text": [
            "[0 8]\n"
          ]
        },
        {
          "name": "stderr",
          "output_type": "stream",
          "text": [
            "C:\\Users\\ASUS\\AppData\\Local\\Temp\\ipykernel_10032\\3911524785.py:9: SettingWithCopyWarning: \n",
            "A value is trying to be set on a copy of a slice from a DataFrame.\n",
            "Try using .loc[row_indexer,col_indexer] = value instead\n",
            "\n",
            "See the caveats in the documentation: https://pandas.pydata.org/pandas-docs/stable/user_guide/indexing.html#returning-a-view-versus-a-copy\n",
            "  chunk.iloc[:, chunk.columns != \"Label\"] = chunk.groupby(\"Label\").transform(lambda x: x.fillna(x.mean()))\n",
            "10:51:49 INFO Replace negative values with minimum value of each class.\n",
            "10:51:50 INFO Fill NaN in 40 rows with average value of each class.\n"
          ]
        },
        {
          "name": "stdout",
          "output_type": "stream",
          "text": [
            "[0 8]\n"
          ]
        },
        {
          "name": "stderr",
          "output_type": "stream",
          "text": [
            "C:\\Users\\ASUS\\AppData\\Local\\Temp\\ipykernel_10032\\3911524785.py:9: SettingWithCopyWarning: \n",
            "A value is trying to be set on a copy of a slice from a DataFrame.\n",
            "Try using .loc[row_indexer,col_indexer] = value instead\n",
            "\n",
            "See the caveats in the documentation: https://pandas.pydata.org/pandas-docs/stable/user_guide/indexing.html#returning-a-view-versus-a-copy\n",
            "  chunk.iloc[:, chunk.columns != \"Label\"] = chunk.groupby(\"Label\").transform(lambda x: x.fillna(x.mean()))\n",
            "10:51:52 INFO Replace negative values with minimum value of each class.\n",
            "10:51:52 INFO Fill NaN in 134 rows with average value of each class.\n"
          ]
        },
        {
          "name": "stdout",
          "output_type": "stream",
          "text": [
            "[0 8 5]\n"
          ]
        },
        {
          "name": "stderr",
          "output_type": "stream",
          "text": [
            "C:\\Users\\ASUS\\AppData\\Local\\Temp\\ipykernel_10032\\3911524785.py:9: SettingWithCopyWarning: \n",
            "A value is trying to be set on a copy of a slice from a DataFrame.\n",
            "Try using .loc[row_indexer,col_indexer] = value instead\n",
            "\n",
            "See the caveats in the documentation: https://pandas.pydata.org/pandas-docs/stable/user_guide/indexing.html#returning-a-view-versus-a-copy\n",
            "  chunk.iloc[:, chunk.columns != \"Label\"] = chunk.groupby(\"Label\").transform(lambda x: x.fillna(x.mean()))\n",
            "10:51:54 INFO Replace negative values with minimum value of each class.\n",
            "10:51:55 INFO Fill NaN in 417 rows with average value of each class.\n"
          ]
        },
        {
          "name": "stdout",
          "output_type": "stream",
          "text": [
            "[0 5 4 3]\n"
          ]
        },
        {
          "name": "stderr",
          "output_type": "stream",
          "text": [
            "C:\\Users\\ASUS\\AppData\\Local\\Temp\\ipykernel_10032\\3911524785.py:9: SettingWithCopyWarning: \n",
            "A value is trying to be set on a copy of a slice from a DataFrame.\n",
            "Try using .loc[row_indexer,col_indexer] = value instead\n",
            "\n",
            "See the caveats in the documentation: https://pandas.pydata.org/pandas-docs/stable/user_guide/indexing.html#returning-a-view-versus-a-copy\n",
            "  chunk.iloc[:, chunk.columns != \"Label\"] = chunk.groupby(\"Label\").transform(lambda x: x.fillna(x.mean()))\n",
            "10:51:56 INFO Replace negative values with minimum value of each class.\n",
            "10:51:57 INFO Fill NaN in 404 rows with average value of each class.\n"
          ]
        },
        {
          "name": "stdout",
          "output_type": "stream",
          "text": [
            "[3 0]\n"
          ]
        },
        {
          "name": "stderr",
          "output_type": "stream",
          "text": [
            "C:\\Users\\ASUS\\AppData\\Local\\Temp\\ipykernel_10032\\3911524785.py:9: SettingWithCopyWarning: \n",
            "A value is trying to be set on a copy of a slice from a DataFrame.\n",
            "Try using .loc[row_indexer,col_indexer] = value instead\n",
            "\n",
            "See the caveats in the documentation: https://pandas.pydata.org/pandas-docs/stable/user_guide/indexing.html#returning-a-view-versus-a-copy\n",
            "  chunk.iloc[:, chunk.columns != \"Label\"] = chunk.groupby(\"Label\").transform(lambda x: x.fillna(x.mean()))\n",
            "10:51:58 INFO Replace negative values with minimum value of each class.\n"
          ]
        },
        {
          "name": "stdout",
          "output_type": "stream",
          "text": [
            "[3 0]\n"
          ]
        },
        {
          "name": "stderr",
          "output_type": "stream",
          "text": [
            "10:52:00 INFO Fill NaN in 27 rows with average value of each class.\n",
            "C:\\Users\\ASUS\\AppData\\Local\\Temp\\ipykernel_10032\\3911524785.py:9: SettingWithCopyWarning: \n",
            "A value is trying to be set on a copy of a slice from a DataFrame.\n",
            "Try using .loc[row_indexer,col_indexer] = value instead\n",
            "\n",
            "See the caveats in the documentation: https://pandas.pydata.org/pandas-docs/stable/user_guide/indexing.html#returning-a-view-versus-a-copy\n",
            "  chunk.iloc[:, chunk.columns != \"Label\"] = chunk.groupby(\"Label\").transform(lambda x: x.fillna(x.mean()))\n",
            "10:52:01 INFO Replace negative values with minimum value of each class.\n"
          ]
        },
        {
          "name": "stdout",
          "output_type": "stream",
          "text": [
            "[3 0 2]\n"
          ]
        },
        {
          "name": "stderr",
          "output_type": "stream",
          "text": [
            "10:52:02 INFO Fill NaN in 11 rows with average value of each class.\n",
            "C:\\Users\\ASUS\\AppData\\Local\\Temp\\ipykernel_10032\\3911524785.py:9: SettingWithCopyWarning: \n",
            "A value is trying to be set on a copy of a slice from a DataFrame.\n",
            "Try using .loc[row_indexer,col_indexer] = value instead\n",
            "\n",
            "See the caveats in the documentation: https://pandas.pydata.org/pandas-docs/stable/user_guide/indexing.html#returning-a-view-versus-a-copy\n",
            "  chunk.iloc[:, chunk.columns != \"Label\"] = chunk.groupby(\"Label\").transform(lambda x: x.fillna(x.mean()))\n",
            "10:52:03 INFO Replace negative values with minimum value of each class.\n"
          ]
        },
        {
          "name": "stdout",
          "output_type": "stream",
          "text": [
            "[0 2]\n"
          ]
        },
        {
          "name": "stderr",
          "output_type": "stream",
          "text": [
            "10:52:05 INFO Fill NaN in 6 rows with average value of each class.\n",
            "C:\\Users\\ASUS\\AppData\\Local\\Temp\\ipykernel_10032\\3911524785.py:9: SettingWithCopyWarning: \n",
            "A value is trying to be set on a copy of a slice from a DataFrame.\n",
            "Try using .loc[row_indexer,col_indexer] = value instead\n",
            "\n",
            "See the caveats in the documentation: https://pandas.pydata.org/pandas-docs/stable/user_guide/indexing.html#returning-a-view-versus-a-copy\n",
            "  chunk.iloc[:, chunk.columns != \"Label\"] = chunk.groupby(\"Label\").transform(lambda x: x.fillna(x.mean()))\n",
            "10:52:06 INFO Replace negative values with minimum value of each class.\n"
          ]
        },
        {
          "name": "stdout",
          "output_type": "stream",
          "text": [
            "[0 2]\n"
          ]
        },
        {
          "name": "stderr",
          "output_type": "stream",
          "text": [
            "10:52:07 INFO Fill NaN in 8 rows with average value of each class.\n",
            "C:\\Users\\ASUS\\AppData\\Local\\Temp\\ipykernel_10032\\3911524785.py:9: SettingWithCopyWarning: \n",
            "A value is trying to be set on a copy of a slice from a DataFrame.\n",
            "Try using .loc[row_indexer,col_indexer] = value instead\n",
            "\n",
            "See the caveats in the documentation: https://pandas.pydata.org/pandas-docs/stable/user_guide/indexing.html#returning-a-view-versus-a-copy\n",
            "  chunk.iloc[:, chunk.columns != \"Label\"] = chunk.groupby(\"Label\").transform(lambda x: x.fillna(x.mean()))\n",
            "10:52:09 INFO Replace negative values with minimum value of each class.\n"
          ]
        },
        {
          "name": "stdout",
          "output_type": "stream",
          "text": [
            "[0 2]\n"
          ]
        },
        {
          "name": "stderr",
          "output_type": "stream",
          "text": [
            "10:52:10 INFO Fill NaN in 11 rows with average value of each class.\n",
            "C:\\Users\\ASUS\\AppData\\Local\\Temp\\ipykernel_10032\\3911524785.py:9: SettingWithCopyWarning: \n",
            "A value is trying to be set on a copy of a slice from a DataFrame.\n",
            "Try using .loc[row_indexer,col_indexer] = value instead\n",
            "\n",
            "See the caveats in the documentation: https://pandas.pydata.org/pandas-docs/stable/user_guide/indexing.html#returning-a-view-versus-a-copy\n",
            "  chunk.iloc[:, chunk.columns != \"Label\"] = chunk.groupby(\"Label\").transform(lambda x: x.fillna(x.mean()))\n",
            "10:52:10 INFO Replace negative values with minimum value of each class.\n"
          ]
        },
        {
          "name": "stdout",
          "output_type": "stream",
          "text": [
            "[0]\n"
          ]
        },
        {
          "name": "stderr",
          "output_type": "stream",
          "text": [
            "10:52:11 INFO Fill NaN in 7 rows with average value of each class.\n",
            "C:\\Users\\ASUS\\AppData\\Local\\Temp\\ipykernel_10032\\3911524785.py:9: SettingWithCopyWarning: \n",
            "A value is trying to be set on a copy of a slice from a DataFrame.\n",
            "Try using .loc[row_indexer,col_indexer] = value instead\n",
            "\n",
            "See the caveats in the documentation: https://pandas.pydata.org/pandas-docs/stable/user_guide/indexing.html#returning-a-view-versus-a-copy\n",
            "  chunk.iloc[:, chunk.columns != \"Label\"] = chunk.groupby(\"Label\").transform(lambda x: x.fillna(x.mean()))\n",
            "10:52:12 INFO Replace negative values with minimum value of each class.\n"
          ]
        },
        {
          "name": "stdout",
          "output_type": "stream",
          "text": [
            "[0]\n"
          ]
        },
        {
          "name": "stderr",
          "output_type": "stream",
          "text": [
            "10:52:12 INFO Fill NaN in 11 rows with average value of each class.\n",
            "C:\\Users\\ASUS\\AppData\\Local\\Temp\\ipykernel_10032\\3911524785.py:9: SettingWithCopyWarning: \n",
            "A value is trying to be set on a copy of a slice from a DataFrame.\n",
            "Try using .loc[row_indexer,col_indexer] = value instead\n",
            "\n",
            "See the caveats in the documentation: https://pandas.pydata.org/pandas-docs/stable/user_guide/indexing.html#returning-a-view-versus-a-copy\n",
            "  chunk.iloc[:, chunk.columns != \"Label\"] = chunk.groupby(\"Label\").transform(lambda x: x.fillna(x.mean()))\n",
            "10:52:13 INFO Replace negative values with minimum value of each class.\n"
          ]
        },
        {
          "name": "stdout",
          "output_type": "stream",
          "text": [
            "[0]\n"
          ]
        },
        {
          "name": "stderr",
          "output_type": "stream",
          "text": [
            "10:52:13 INFO Fill NaN in 5 rows with average value of each class.\n",
            "C:\\Users\\ASUS\\AppData\\Local\\Temp\\ipykernel_10032\\3911524785.py:9: SettingWithCopyWarning: \n",
            "A value is trying to be set on a copy of a slice from a DataFrame.\n",
            "Try using .loc[row_indexer,col_indexer] = value instead\n",
            "\n",
            "See the caveats in the documentation: https://pandas.pydata.org/pandas-docs/stable/user_guide/indexing.html#returning-a-view-versus-a-copy\n",
            "  chunk.iloc[:, chunk.columns != \"Label\"] = chunk.groupby(\"Label\").transform(lambda x: x.fillna(x.mean()))\n",
            "10:52:14 INFO Replace negative values with minimum value of each class.\n"
          ]
        },
        {
          "name": "stdout",
          "output_type": "stream",
          "text": [
            "[0]\n"
          ]
        },
        {
          "name": "stderr",
          "output_type": "stream",
          "text": [
            "10:52:15 INFO Fill NaN in 12 rows with average value of each class.\n",
            "C:\\Users\\ASUS\\AppData\\Local\\Temp\\ipykernel_10032\\3911524785.py:9: SettingWithCopyWarning: \n",
            "A value is trying to be set on a copy of a slice from a DataFrame.\n",
            "Try using .loc[row_indexer,col_indexer] = value instead\n",
            "\n",
            "See the caveats in the documentation: https://pandas.pydata.org/pandas-docs/stable/user_guide/indexing.html#returning-a-view-versus-a-copy\n",
            "  chunk.iloc[:, chunk.columns != \"Label\"] = chunk.groupby(\"Label\").transform(lambda x: x.fillna(x.mean()))\n",
            "10:52:15 INFO Replace negative values with minimum value of each class.\n"
          ]
        },
        {
          "name": "stdout",
          "output_type": "stream",
          "text": [
            "[0]\n"
          ]
        },
        {
          "name": "stderr",
          "output_type": "stream",
          "text": [
            "10:52:16 INFO Fill NaN in 14 rows with average value of each class.\n",
            "C:\\Users\\ASUS\\AppData\\Local\\Temp\\ipykernel_10032\\3911524785.py:9: SettingWithCopyWarning: \n",
            "A value is trying to be set on a copy of a slice from a DataFrame.\n",
            "Try using .loc[row_indexer,col_indexer] = value instead\n",
            "\n",
            "See the caveats in the documentation: https://pandas.pydata.org/pandas-docs/stable/user_guide/indexing.html#returning-a-view-versus-a-copy\n",
            "  chunk.iloc[:, chunk.columns != \"Label\"] = chunk.groupby(\"Label\").transform(lambda x: x.fillna(x.mean()))\n",
            "10:52:17 INFO Replace negative values with minimum value of each class.\n"
          ]
        },
        {
          "name": "stdout",
          "output_type": "stream",
          "text": [
            "[0]\n"
          ]
        },
        {
          "name": "stderr",
          "output_type": "stream",
          "text": [
            "10:52:17 INFO Fill NaN in 10 rows with average value of each class.\n",
            "C:\\Users\\ASUS\\AppData\\Local\\Temp\\ipykernel_10032\\3911524785.py:9: SettingWithCopyWarning: \n",
            "A value is trying to be set on a copy of a slice from a DataFrame.\n",
            "Try using .loc[row_indexer,col_indexer] = value instead\n",
            "\n",
            "See the caveats in the documentation: https://pandas.pydata.org/pandas-docs/stable/user_guide/indexing.html#returning-a-view-versus-a-copy\n",
            "  chunk.iloc[:, chunk.columns != \"Label\"] = chunk.groupby(\"Label\").transform(lambda x: x.fillna(x.mean()))\n",
            "10:52:19 INFO Replace negative values with minimum value of each class.\n"
          ]
        },
        {
          "name": "stdout",
          "output_type": "stream",
          "text": [
            "[0 7]\n"
          ]
        },
        {
          "name": "stderr",
          "output_type": "stream",
          "text": [
            "10:52:20 INFO Fill NaN in 0 rows with average value of each class.\n",
            "C:\\Users\\ASUS\\AppData\\Local\\Temp\\ipykernel_10032\\3911524785.py:9: SettingWithCopyWarning: \n",
            "A value is trying to be set on a copy of a slice from a DataFrame.\n",
            "Try using .loc[row_indexer,col_indexer] = value instead\n",
            "\n",
            "See the caveats in the documentation: https://pandas.pydata.org/pandas-docs/stable/user_guide/indexing.html#returning-a-view-versus-a-copy\n",
            "  chunk.iloc[:, chunk.columns != \"Label\"] = chunk.groupby(\"Label\").transform(lambda x: x.fillna(x.mean()))\n",
            "10:52:21 INFO Replace negative values with minimum value of each class.\n"
          ]
        },
        {
          "name": "stdout",
          "output_type": "stream",
          "text": [
            "[0 7]\n"
          ]
        },
        {
          "name": "stderr",
          "output_type": "stream",
          "text": [
            "10:52:22 INFO Fill NaN in 7 rows with average value of each class.\n",
            "C:\\Users\\ASUS\\AppData\\Local\\Temp\\ipykernel_10032\\3911524785.py:9: SettingWithCopyWarning: \n",
            "A value is trying to be set on a copy of a slice from a DataFrame.\n",
            "Try using .loc[row_indexer,col_indexer] = value instead\n",
            "\n",
            "See the caveats in the documentation: https://pandas.pydata.org/pandas-docs/stable/user_guide/indexing.html#returning-a-view-versus-a-copy\n",
            "  chunk.iloc[:, chunk.columns != \"Label\"] = chunk.groupby(\"Label\").transform(lambda x: x.fillna(x.mean()))\n",
            "10:52:24 INFO Replace negative values with minimum value of each class.\n"
          ]
        },
        {
          "name": "stdout",
          "output_type": "stream",
          "text": [
            "[7 0]\n"
          ]
        },
        {
          "name": "stderr",
          "output_type": "stream",
          "text": [
            "10:52:25 INFO Fill NaN in 3 rows with average value of each class.\n",
            "C:\\Users\\ASUS\\AppData\\Local\\Temp\\ipykernel_10032\\3911524785.py:9: SettingWithCopyWarning: \n",
            "A value is trying to be set on a copy of a slice from a DataFrame.\n",
            "Try using .loc[row_indexer,col_indexer] = value instead\n",
            "\n",
            "See the caveats in the documentation: https://pandas.pydata.org/pandas-docs/stable/user_guide/indexing.html#returning-a-view-versus-a-copy\n",
            "  chunk.iloc[:, chunk.columns != \"Label\"] = chunk.groupby(\"Label\").transform(lambda x: x.fillna(x.mean()))\n",
            "10:52:27 INFO Replace negative values with minimum value of each class.\n"
          ]
        },
        {
          "name": "stdout",
          "output_type": "stream",
          "text": [
            "[0 1]\n"
          ]
        },
        {
          "name": "stderr",
          "output_type": "stream",
          "text": [
            "10:52:28 INFO Fill NaN in 0 rows with average value of each class.\n",
            "C:\\Users\\ASUS\\AppData\\Local\\Temp\\ipykernel_10032\\3911524785.py:9: SettingWithCopyWarning: \n",
            "A value is trying to be set on a copy of a slice from a DataFrame.\n",
            "Try using .loc[row_indexer,col_indexer] = value instead\n",
            "\n",
            "See the caveats in the documentation: https://pandas.pydata.org/pandas-docs/stable/user_guide/indexing.html#returning-a-view-versus-a-copy\n",
            "  chunk.iloc[:, chunk.columns != \"Label\"] = chunk.groupby(\"Label\").transform(lambda x: x.fillna(x.mean()))\n",
            "10:52:29 INFO Replace negative values with minimum value of each class.\n"
          ]
        },
        {
          "name": "stdout",
          "output_type": "stream",
          "text": [
            "[1 0]\n"
          ]
        },
        {
          "name": "stderr",
          "output_type": "stream",
          "text": [
            "10:52:31 INFO Fill NaN in 1 rows with average value of each class.\n",
            "C:\\Users\\ASUS\\AppData\\Local\\Temp\\ipykernel_10032\\3911524785.py:9: SettingWithCopyWarning: \n",
            "A value is trying to be set on a copy of a slice from a DataFrame.\n",
            "Try using .loc[row_indexer,col_indexer] = value instead\n",
            "\n",
            "See the caveats in the documentation: https://pandas.pydata.org/pandas-docs/stable/user_guide/indexing.html#returning-a-view-versus-a-copy\n",
            "  chunk.iloc[:, chunk.columns != \"Label\"] = chunk.groupby(\"Label\").transform(lambda x: x.fillna(x.mean()))\n",
            "10:52:31 INFO Replace negative values with minimum value of each class.\n"
          ]
        },
        {
          "name": "stdout",
          "output_type": "stream",
          "text": [
            "[0]\n"
          ]
        },
        {
          "data": {
            "text/plain": [
              "array([0, 6, 8, 5, 4, 3, 2, 7, 1])"
            ]
          },
          "execution_count": 16,
          "metadata": {},
          "output_type": "execute_result"
        }
      ],
      "source": [
        "import pandas as pd\n",
        "\n",
        "def process_chunk(chunk):\n",
        "  \n",
        "\n",
        "    # Fill NaN with average value of each class in this dataset\n",
        "    nan_rows = chunk[chunk.isna().any(axis=1)].shape[0]\n",
        "    logging.info(\"Fill NaN in {} rows with average value of each class.\".format(nan_rows))\n",
        "    chunk.iloc[:, chunk.columns != \"Label\"] = chunk.groupby(\"Label\").transform(lambda x: x.fillna(x.mean()))\n",
        "    # Temporary replace inf with NaN\n",
        "    chunk = chunk.replace([np.inf], np.nan)\n",
        "    # Replace inf with maximum value of each class in this dataset\n",
        "    chunk.iloc[:, chunk.columns != \"Label\"] = chunk.groupby(\"Label\").transform(lambda x: x.fillna(x.max()))\n",
        "\n",
        "    # Change negative value with minimum positive value of each class\n",
        "    logging.info(\"Replace negative values with minimum value of each class.\")\n",
        "    # Temporary replace negative value with NaN\n",
        "    chunk[chunk < 0] = np.nan\n",
        "    # Replace negative value with minimum value of each class in this dataset\n",
        "    chunk.iloc[:, chunk.columns != \"Label\"] = chunk.groupby(\"Label\").transform(lambda x: x.fillna(x.min()))\n",
        "\n",
        "    return chunk\n",
        "\n",
        "# Set chunksize to read the dataset in chunks\n",
        "chunksize = 100000\n",
        "new_df = pd.DataFrame()\n",
        "\n",
        "# Loop through the dataset in chunks\n",
        "for i in range(0, len(df), chunksize):\n",
        "    chunk = df.iloc[i:i+chunksize, :]    # Process each chunk using the function\n",
        "    processed_chunk = process_chunk(chunk)\n",
        "    chunk = chunk[(chunk.astype(float) <= 3.4028235e38).all(axis=1)]\n",
        "    print(chunk.Label.unique())\n",
        "    new_df = pd.concat([new_df, chunk])\n",
        "\n",
        "new_df.Label.unique()\n"
      ]
    },
    {
      "cell_type": "code",
      "execution_count": 17,
      "metadata": {},
      "outputs": [
        {
          "name": "stderr",
          "output_type": "stream",
          "text": [
            "10:52:32 INFO Class distribution\n",
            "0    2271320\n",
            "3     230124\n",
            "7     158804\n",
            "1     128025\n",
            "2      10293\n",
            "6       7935\n",
            "8       5897\n",
            "5       5796\n",
            "4       5499\n",
            "Name: Label, dtype: int64\n"
          ]
        }
      ],
      "source": [
        "logging.info(\"Class distribution\\n{}\".format(new_df.Label.value_counts()))"
      ]
    },
    {
      "cell_type": "code",
      "execution_count": 18,
      "metadata": {
        "id": "1gYODTJLXBtM"
      },
      "outputs": [],
      "source": [
        "import pandas as pd\n",
        "\n",
        "\n",
        "# Separate the benign traffic data\n",
        "benign_data = new_df[new_df['Label'] == 0]\n",
        "\n",
        "# Calculate the desired number of benign samples to keep (e.g., 10% of the original benign traffic)\n",
        "desired_benign_samples = int(len(benign_data) * 0.11)\n",
        "\n",
        "# Randomly sample the desired number of benign samples\n",
        "sampled_benign_data = benign_data.sample(n=desired_benign_samples, random_state=42)\n",
        "\n",
        "# Combine the sampled benign data with the non-benign data\n",
        "filtered_dataset = pd.concat([sampled_benign_data, new_df[new_df['Label'] != 0]])\n",
        "\n",
        "# Reset the index of the DataFrame\n",
        "filtered_dataset.reset_index(drop=True, inplace=True)\n",
        "\n",
        "# Save the filtered dataset to a new CSV file\n",
        "filtered_dataset.to_csv('filtred_and_balanced_dataset.csv', index=False)"
      ]
    }
  ],
  "metadata": {
    "accelerator": "GPU",
    "colab": {
      "gpuType": "T4",
      "private_outputs": true,
      "provenance": []
    },
    "gpuClass": "standard",
    "kernelspec": {
      "display_name": "Python 3",
      "language": "python",
      "name": "python3"
    },
    "language_info": {
      "codemirror_mode": {
        "name": "ipython",
        "version": 3
      },
      "file_extension": ".py",
      "mimetype": "text/x-python",
      "name": "python",
      "nbconvert_exporter": "python",
      "pygments_lexer": "ipython3",
      "version": "3.10.7"
    },
    "vscode": {
      "interpreter": {
        "hash": "27f6fea6f47ae512550f0b8facdbd035a93e1dd89633f7bf2dd00a2502c71d0d"
      }
    }
  },
  "nbformat": 4,
  "nbformat_minor": 0
}
